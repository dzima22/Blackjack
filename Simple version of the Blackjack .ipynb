
  {
   "cell_type": "markdown",
   "id": "8689ccd8",
   "metadata": {},
   "source": [
    "## Game\n",
    "**Step 1: The random module is needed to shuffle the deck of cards before dealing. Then declare variables to store suits, values, and values. This is common practice for controlling the progress of the game.**"
   ]
  },
  {
   "cell_type": "code",
   "execution_count": 3,
   "id": "dfd91535",
   "metadata": {},
   "outputs": [],
   "source": [
    "import random\n",
    "suits = ('Hearts', ' Diamonds', ' Spades', 'Clubs')\n",
    "ranks = ('Two', 'Three', 'Four', 'Five', 'Six', 'Seven', 'Eight', 'Nine', 'Ten', 'Jack', 'Queen', 'King', 'Ace')\n",
    "values = {'Two':2, 'Three':3, 'Four':4, 'Five':5, 'Six':6, 'Seven':7, 'Eight':8, 'Nine':9, 'Ten':10, 'Jack':10, 'Queen':10, 'King':10, 'Ace':11}\n",
    "playing = True"
   ]
  },
  {
   "cell_type": "markdown",
   "id": "ecbd90cd",
   "metadata": {},
   "source": [
    "# Class definitions \n"
   ]
  },
  {
   "cell_type": "markdown",
   "id": "be519dff",
   "metadata": {},
   "source": [
    "**Step 2: Create a Card class**<br>\n",
    "The Card object will contain only two attributes: suit and merit."
   ]
  },
  {
   "cell_type": "code",
   "execution_count": 5,
   "id": "dcaa5ac2",
   "metadata": {},
   "outputs": [],
   "source": [
    "class Card:\n",
    "\n",
    "    def __init__(self,suit,rank):\n",
    "        self.suit = suit\n",
    "        self.rank = rank\n",
    "        \n",
    "    def __str__(self):\n",
    "        return self.rank + ' - ' + self.suit"
   ]
  },
  {
   "cell_type": "markdown",
   "id": "edae9eb8",
   "metadata": {},
   "source": [
    "**Step 3: Create a Deck class**<br>"
   ]
  },
  {
   "cell_type": "code",
   "execution_count": 6,
   "id": "5f959994",
   "metadata": {},
   "outputs": [],
   "source": [
    "class Deck:\n",
    "    \n",
    "    def __init__(self):\n",
    "        self.deck = []  # start with an empty list\n",
    "        for suit in suits:\n",
    "            for rank in ranks:\n",
    "                self.deck.append(Card(suit,rank))  # create Card objects and add them to the list\n",
    "    \n",
    "    def __str__(self):\n",
    "        deck_comp = ''  # start with an empty line\n",
    "        for card in self.deck:\n",
    "            deck_comp += '\\n '+card.__str__() # add a print line for each Card object\n",
    "        return 'The deck contains:' + deck_comp\n",
    "\n",
    "    def shuffle(self):\n",
    "        random.shuffle(self.deck)\n",
    "        \n",
    "    def deal(self):\n",
    "        single_card = self.deck.pop()\n",
    "        return single_card"
   ]
  },
  {
   "cell_type": "markdown",
   "id": "6dbbea10",
   "metadata": {},
   "source": [
    "Check that everything works"
   ]
  },
  {
   "cell_type": "code",
   "execution_count": 7,
   "id": "2f0b5688",
   "metadata": {},
   "outputs": [
    {
     "name": "stdout",
     "output_type": "stream",
     "text": [
      "The deck contains:\n",
      " Two - Hearts\n",
      " Three - Hearts\n",
      " Four - Hearts\n",
      " Five - Hearts\n",
      " Six - Hearts\n",
      " Seven - Hearts\n",
      " Eight - Hearts\n",
      " Nine - Hearts\n",
      " Ten - Hearts\n",
      " Jack - Hearts\n",
      " Queen - Hearts\n",
      " King - Hearts\n",
      " Ace - Hearts\n",
      " Two -  Diamonds\n",
      " Three -  Diamonds\n",
      " Four -  Diamonds\n",
      " Five -  Diamonds\n",
      " Six -  Diamonds\n",
      " Seven -  Diamonds\n",
      " Eight -  Diamonds\n",
      " Nine -  Diamonds\n",
      " Ten -  Diamonds\n",
      " Jack -  Diamonds\n",
      " Queen -  Diamonds\n",
      " King -  Diamonds\n",
      " Ace -  Diamonds\n",
      " Two -  Spades\n",
      " Three -  Spades\n",
      " Four -  Spades\n",
      " Five -  Spades\n",
      " Six -  Spades\n",
      " Seven -  Spades\n",
      " Eight -  Spades\n",
      " Nine -  Spades\n",
      " Ten -  Spades\n",
      " Jack -  Spades\n",
      " Queen -  Spades\n",
      " King -  Spades\n",
      " Ace -  Spades\n",
      " Two - Clubs\n",
      " Three - Clubs\n",
      " Four - Clubs\n",
      " Five - Clubs\n",
      " Six - Clubs\n",
      " Seven - Clubs\n",
      " Eight - Clubs\n",
      " Nine - Clubs\n",
      " Ten - Clubs\n",
      " Jack - Clubs\n",
      " Queen - Clubs\n",
      " King - Clubs\n",
      " Ace - Clubs\n"
     ]
    }
   ],
   "source": [
    "test_deck = Deck()\n",
    "print(test_deck)"
   ]
  },
  {
   "cell_type": "markdown",
   "id": "1825f687",
   "metadata": {},
   "source": [
    "**Step 4: Create a Hand class**<br>\n",
    "In addition to storing cards that have been retrieved from the deck, the Hand class can be used to calculate the values of those cards using the dictionary mentioned earlier. You also need to adjust the values for the Aces if necessary."
   ]
  },
  {
   "cell_type": "code",
   "execution_count": 8,
   "id": "3d92526c",
   "metadata": {},
   "outputs": [],
   "source": [
    "class Hand:\n",
    "    def __init__(self):\n",
    "        self.cards = []  # we start with an empty list, just like in the Deck class \n",
    "        self.value = 0   # Starts from  0\n",
    "        self.aces = 0    # add an attribute to account for aces\n",
    "    \n",
    "    def add_card(self,card):\n",
    "        self.cards.append(card)\n",
    "        self.value += values[card.rank]\n",
    "    \n",
    "    def adjust_for_ace(self):\n",
    "        pass"
   ]
  },
  {
   "cell_type": "markdown",
   "id": "522d05df",
   "metadata": {},
   "source": [
    "TESTING: Check if everything working "
   ]
  },
  {
   "cell_type": "code",
   "execution_count": 9,
   "id": "8c2daaf9",
   "metadata": {},
   "outputs": [
    {
     "data": {
      "text/plain": [
       "20"
      ]
     },
     "execution_count": 9,
     "metadata": {},
     "output_type": "execute_result"
    }
   ],
   "source": [
    "test_deck = Deck()\n",
    "test_deck.shuffle()\n",
    "test_player = Hand()\n",
    "test_player.add_card(test_deck.deal())\n",
    "test_player.add_card(test_deck.deal())\n",
    "test_player.value"
   ]
  },
  {
   "cell_type": "markdown",
   "id": "f09abe63",
   "metadata": {},
   "source": [
    "Let's see what these cards are:"
   ]
  },
  {
   "cell_type": "code",
   "execution_count": 10,
   "id": "cc773f62",
   "metadata": {},
   "outputs": [
    {
     "name": "stdout",
     "output_type": "stream",
     "text": [
      "Ten - Clubs\n",
      "Queen -  Diamonds\n"
     ]
    }
   ],
   "source": [
    "for card in test_player.cards:\n",
    "    print(card)"
   ]
  },
  {
   "cell_type": "code",
   "execution_count": 11,
   "id": "d6e2c50f",
   "metadata": {},
   "outputs": [],
   "source": [
    "class Hand:\n",
    "    \n",
    "    def __init__(self):\n",
    "        self.cards = []  # we start with an empty list, just like in the Deck class \n",
    "        self.value = 0   # start from 0\n",
    "        self.aces = 0    # add an attribute to account for aces\n",
    "    \n",
    "    def add_card(self,card):\n",
    "        self.cards.append(card)\n",
    "        self.value += values[card.rank]\n",
    "        if card.rank == 'ACE':\n",
    "            self.aces += 1  # increase the value of self.aces\n",
    "    \n",
    "    def adjust_for_ace(self):\n",
    "        while self.value > 21 and self.aces:\n",
    "            self.value -= 10\n",
    "            self.aces -= 1 "
   ]
  },
  {
   "cell_type": "markdown",
   "id": "b4738ac7",
   "metadata": {},
   "source": [
    "**Step 5: Create a class of Chips<br>\n",
    "We also need to store the Player's initial chips, his bets, and his current winnings. We can do this with global variables, but to follow the spirit of object-oriented programming**"
   ]
  },
  {
   "cell_type": "code",
   "execution_count": 12,
   "id": "60a890a1",
   "metadata": {},
   "outputs": [],
   "source": [
    "class Chips:\n",
    "    \n",
    "    def __init__(self):\n",
    "        self.total = 100  #  you can set the default value, or you can query the value from the user\n",
    "        self.bet = 0\n",
    "        \n",
    "    def win_bet(self):\n",
    "        self.total += self.bet\n",
    "    \n",
    "    def lose_bet(self):\n",
    "        self.total -= self.bet"
   ]
  },
  {
   "cell_type": "markdown",
   "id": "a5c2cce6",
   "metadata": {},
   "source": [
    "#### Function definitions\n",
    "Many of the steps will be repetitive. And this is where functions will be needed! The steps below are approximate "
   ]
  },
  {
   "cell_type": "markdown",
   "id": "e6c767b1",
   "metadata": {},
   "source": [
    "**Step 6: Write a function in which the player bets**<br>\n",
    "    Since we will be asking User to enter an integer, it is appropriate to use <code>try</code>/<code>except</code>"
   ]
  },
  {
   "cell_type": "code",
   "execution_count": 14,
   "id": "27a2eb2f",
   "metadata": {},
   "outputs": [],
   "source": [
    "def take_bet(chips):\n",
    "    \n",
    "    while True:\n",
    "        try:\n",
    "            chips.bet = int(input('How many chips do you want to bet?: '))\n",
    "        except ValueError:\n",
    "            print('Sorry, the bet must be a number!')\n",
    "        else:\n",
    "            if chips.bet > chips.total:\n",
    "                print(\"Sorry, your rate should not exceed \",chips.total)\n",
    "            else:\n",
    "                break"
   ]
  },
  {
   "cell_type": "markdown",
   "id": "1b017780",
   "metadata": {},
   "source": [
    "**Step 7: Write a function in which the Player takes additional cards**<br>\n",
    "Any of the Players can take additional cards until they exceed 21. This function will be called in the game every time a Player requests an additional card, or when the Dealer has less than 17 points. You can use the Deck and Hand objects as parameters in this function, give one card from the deck, and add it to the Hand object."
   ]
  },
  {
   "cell_type": "code",
   "execution_count": 13,
   "id": "e9de0797",
   "metadata": {},
   "outputs": [],
   "source": [
    "def hit(deck,hand):\n",
    "    \n",
    "    hand.add_card(deck.deal())\n",
    "    hand.adjust_for_ace()"
   ]
  },
  {
   "cell_type": "markdown",
   "id": "6ea19072",
   "metadata": {},
   "source": [
    "**Step 8: Write a function that prompts the Player to take an extra card or stay with the current cards.**<br>\n",
    "This function can take a Hand deck and player cards as parameters, and assign values to a global variable Playing.<br>    \n",
    "If the Player requests an additional card, we call the Hit() function. If the Player stays with his cards, we set the variable Playing to False - with this variable we will control the loop <code>while</code> later."
   ]
  },
  {
   "cell_type": "code",
   "execution_count": 16,
   "id": "6f9c4993",
   "metadata": {},
   "outputs": [],
   "source": [
    "def hit_or_stand(deck,hand):\n",
    "    global playing  # for cycle control while\n",
    "    \n",
    "    while True:\n",
    "        x = input(\"Do you want to take an additional card (h - Hit) or stay with the current cards (s - Stand)? Enter 'h' or 's' \")\n",
    "        \n",
    "        if x[0].lower() == 'h':\n",
    "            hit(deck,hand)  \n",
    "\n",
    "        elif x[0].lower() == 's':\n",
    "            print(\"The player stays with the current cards. Dealer's turn.\")\n",
    "            playing = False\n",
    "\n",
    "        else:\n",
    "            print(\"Sorry, please try again.\")\n",
    "            continue\n",
    "        break"
   ]
  },
  {
   "cell_type": "markdown",
   "id": "d5047de0",
   "metadata": {},
   "source": [
    "**Step 9: Write functions to display maps**<br>\n",
    "At the beginning of the game, and whenever the Player takes an additional card, the Dealer's first card is hidden and all of the Player's cards are visible. At the end of the game all cards are shown, and you can show the number of points for each of the participants."
   ]
  },
  {
   "cell_type": "code",
   "execution_count": 15,
   "id": "ac92683d",
   "metadata": {},
   "outputs": [],
   "source": [
    "def show_some(player,dealer):\n",
    "    print(\"\\Dealer cards:\")\n",
    "    print(\" <hidden card>\")\n",
    "    print('',dealer.cards[1])  \n",
    "    print(\"\\nPlayer cards:\", *player.cards, sep='\\n ')\n",
    "    \n",
    "def show_all(player,dealer):\n",
    "    print(\"\\nDealer cards:\", *dealer.cards, sep='\\n ')\n",
    "    print(\"Dealer cards =\",dealer.value)\n",
    "    print(\"\\nPlayer cards:\", *player.cards, sep='\\n ')\n",
    "    print(\"Player cards =\",player.value)"
   ]
  },
  {
   "cell_type": "markdown",
   "id": "00649da5",
   "metadata": {},
   "source": [
    "**Step 10: Write functions to handle game completion scenarios**<br>\n",
    "Provide the Player hand, Dealer hand, and chips objects as a parameter, as needed."
   ]
  },
  {
   "cell_type": "code",
   "execution_count": 18,
   "id": "69d7760b",
   "metadata": {},
   "outputs": [],
   "source": [
    "def player_busts(player,dealer,chips):\n",
    "    print(\"A player has exceeded 21!\")\n",
    "    chips.lose_bet()\n",
    "\n",
    "def player_wins(player,dealer,chips):\n",
    "    print(\"Player wins!\")\n",
    "    chips.win_bet()\n",
    "\n",
    "def dealer_busts(player,dealer,chips):\n",
    "    print(\"Dealer has exceeded 21!\")\n",
    "    chips.win_bet()\n",
    "    \n",
    "def dealer_wins(player,dealer,chips):\n",
    "    print(\"Dealer wins!\")\n",
    "    chips.lose_bet()\n",
    "    \n",
    "def push(player,dealer):\n",
    "    print(\"Draw!.\")"
   ]
  },
  {
   "cell_type": "markdown",
   "id": "041b62f6",
   "metadata": {},
   "source": [
    "#### And now the game itself!!!"
   ]
  },
  {
   "cell_type": "code",
   "execution_count": 20,
   "id": "5704f684",
   "metadata": {},
   "outputs": [
    {
     "name": "stdout",
     "output_type": "stream",
     "text": [
      "Welcome to the game of Blackjack! Try to get as close to 21 as you can without exceeding it!\n",
      "             The dealer takes additional cards until he gets a sum greater than 17. An Ace counts as either a 1 or an 11.\n",
      "How many chips do you want to bet?: 20\n",
      "\\Dealer cards:\n",
      " <hidden card>\n",
      " Eight - Hearts\n",
      "\n",
      "Player cards:\n",
      " Nine - Clubs\n",
      " Nine -  Spades\n",
      "Do you want to take an additional card (h - Hit) or stay with the current cards (s - Stand)? Enter 'h' or 's' h\n",
      "\\Dealer cards:\n",
      " <hidden card>\n",
      " Eight - Hearts\n",
      "\n",
      "Player cards:\n",
      " Nine - Clubs\n",
      " Nine -  Spades\n",
      " Five -  Diamonds\n",
      "A player has exceeded 21!\n",
      "\n",
      "The sum of the Player's chips -  80\n",
      "Would you like to play again? Enter 'y' or 'n'. y\n",
      "Welcome to the game of Blackjack! Try to get as close to 21 as you can without exceeding it!\n",
      "             The dealer takes additional cards until he gets a sum greater than 17. An Ace counts as either a 1 or an 11.\n",
      "How many chips do you want to bet?: 30\n",
      "\\Dealer cards:\n",
      " <hidden card>\n",
      " Ace - Clubs\n",
      "\n",
      "Player cards:\n",
      " King - Clubs\n",
      " Jack - Clubs\n",
      "Do you want to take an additional card (h - Hit) or stay with the current cards (s - Stand)? Enter 'h' or 's' s\n",
      "The player stays with the current cards. Dealer's turn.\n",
      "\\Dealer cards:\n",
      " <hidden card>\n",
      " Ace - Clubs\n",
      "\n",
      "Player cards:\n",
      " King - Clubs\n",
      " Jack - Clubs\n",
      "\n",
      "Dealer cards:\n",
      " Jack - Hearts\n",
      " Ace - Clubs\n",
      "Dealer cards = 21\n",
      "\n",
      "Player cards:\n",
      " King - Clubs\n",
      " Jack - Clubs\n",
      "Player cards = 20\n",
      "Dealer wins!\n",
      "\n",
      "The sum of the Player's chips -  70\n",
      "Would you like to play again? Enter 'y' or 'n'. y\n",
      "Welcome to the game of Blackjack! Try to get as close to 21 as you can without exceeding it!\n",
      "             The dealer takes additional cards until he gets a sum greater than 17. An Ace counts as either a 1 or an 11.\n",
      "How many chips do you want to bet?: 30\n",
      "\\Dealer cards:\n",
      " <hidden card>\n",
      " Five - Clubs\n",
      "\n",
      "Player cards:\n",
      " Six -  Spades\n",
      " Three -  Spades\n",
      "Do you want to take an additional card (h - Hit) or stay with the current cards (s - Stand)? Enter 'h' or 's' h\n",
      "\\Dealer cards:\n",
      " <hidden card>\n",
      " Five - Clubs\n",
      "\n",
      "Player cards:\n",
      " Six -  Spades\n",
      " Three -  Spades\n",
      " Three - Clubs\n",
      "Do you want to take an additional card (h - Hit) or stay with the current cards (s - Stand)? Enter 'h' or 's' h\n",
      "\\Dealer cards:\n",
      " <hidden card>\n",
      " Five - Clubs\n",
      "\n",
      "Player cards:\n",
      " Six -  Spades\n",
      " Three -  Spades\n",
      " Three - Clubs\n",
      " Five -  Spades\n",
      "Do you want to take an additional card (h - Hit) or stay with the current cards (s - Stand)? Enter 'h' or 's' h\n",
      "\\Dealer cards:\n",
      " <hidden card>\n",
      " Five - Clubs\n",
      "\n",
      "Player cards:\n",
      " Six -  Spades\n",
      " Three -  Spades\n",
      " Three - Clubs\n",
      " Five -  Spades\n",
      " Eight -  Diamonds\n",
      "A player has exceeded 21!\n",
      "\n",
      "The sum of the Player's chips -  70\n",
      "Would you like to play again? Enter 'y' or 'n'. n\n",
      "Thanks for the game!\n"
     ]
    }
   ],
   "source": [
    "while True:\n",
    "    # Greeting message\n",
    "    print('Welcome to the game of Blackjack! Try to get as close to 21 as you can without exceeding it!\\n\\\n",
    "             The dealer takes additional cards until he gets a sum greater than 17. An Ace counts as either a 1 or an 11.')\n",
    "    \n",
    "    # Create and mix a deck of cards, give each Player two cards\n",
    "    deck = Deck()\n",
    "    deck.shuffle()\n",
    "    \n",
    "    player_hand = Hand()\n",
    "    player_hand.add_card(deck.deal())\n",
    "    player_hand.add_card(deck.deal())\n",
    "    \n",
    "    dealer_hand = Hand()\n",
    "    dealer_hand.add_card(deck.deal())\n",
    "    dealer_hand.add_card(deck.deal())\n",
    "            \n",
    "    # Set the number of Player's chips\n",
    "    player_chips = Chips()  # the default value is 100    \n",
    "    \n",
    "    # Ask the Player for his bet\n",
    "    take_bet(player_chips)\n",
    "    \n",
    "    # Show cards (but leave one of the Dealer's cards hidden)\n",
    "    show_some(player_hand,dealer_hand)\n",
    "    \n",
    "    while playing:  #  this is the variable from our hit_or_stand function \n",
    "        \n",
    "        # Ask the Player if he wants to take an additional card or stay with his current cards\n",
    "        hit_or_stand(deck,player_hand) \n",
    "        \n",
    "        # Show cards (but leave one of the Dealer's cards hidden)\n",
    "        show_some(player_hand,dealer_hand)  \n",
    "        \n",
    "        # If Player cards exceed 21, run player_busts() and exit the loop (break)\n",
    "        if player_hand.value > 21:\n",
    "            player_busts(player_hand,dealer_hand,player_chips)\n",
    "            break        \n",
    "\n",
    "\n",
    "    # If the Player's cards do not exceed 21, go to the Dealer's cards and take additional cards up to the sum of cards >=17\n",
    "    if player_hand.value <= 21:\n",
    "        \n",
    "        while dealer_hand.value < 17:\n",
    "            hit(deck,dealer_hand)    \n",
    "    \n",
    "        # Showing all the cards\n",
    "        show_all(player_hand,dealer_hand)\n",
    "        \n",
    "        # Execute various options for completing the game\n",
    "        if dealer_hand.value > 21:\n",
    "            dealer_busts(player_hand,dealer_hand,player_chips)\n",
    "\n",
    "        elif dealer_hand.value > player_hand.value:\n",
    "            dealer_wins(player_hand,dealer_hand,player_chips)\n",
    "\n",
    "        elif dealer_hand.value < player_hand.value:\n",
    "            player_wins(player_hand,dealer_hand,player_chips)\n",
    "\n",
    "        else:\n",
    "            push(player_hand,dealer_hand)        \n",
    "    \n",
    "    # Tell the Player the amount of his chips \n",
    "    print(\"\\nThe sum of the Player's chips - \",player_chips.total)\n",
    "    \n",
    "    # Ask him if he wants to play again\n",
    "    new_game = input(\"Would you like to play again? Enter 'y' or 'n'. \")\n",
    "    \n",
    "    if new_game[0].lower()=='y':\n",
    "        playing=True\n",
    "        continue\n",
    "    else:\n",
    "        print(\"Thanks for the game!\")\n",
    "        break"
   ]
  },
  {
   "cell_type": "code",
   "execution_count": null,
   "id": "e0cf6653",
   "metadata": {},
   "outputs": [],
   "source": []
  }
 ],
 "metadata": {
  "kernelspec": {
   "display_name": "Python 3 (ipykernel)",
   "language": "python",
   "name": "python3"
  },
  "language_info": {
   "codemirror_mode": {
    "name": "ipython",
    "version": 3
   },
   "file_extension": ".py",
   "mimetype": "text/x-python",
   "name": "python",
   "nbconvert_exporter": "python",
   "pygments_lexer": "ipython3",
   "version": "3.9.7"
  }
 },
 "nbformat": 4,
 "nbformat_minor": 5
}
